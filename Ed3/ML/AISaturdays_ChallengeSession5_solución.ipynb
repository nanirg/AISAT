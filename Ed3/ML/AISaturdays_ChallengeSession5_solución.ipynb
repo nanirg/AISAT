{
 "cells": [
  {
   "cell_type": "markdown",
   "metadata": {},
   "source": [
    "# **AISaturdays ECG Challenge**\n",
    "\n",
    "![AISaturdays](https://www.saturdays.ai/assets/images/ai-saturdays-122x122.png)\n",
    "\n",
    "Bienvenido al reto de esta semana. Esta vez detectaremos casos de enfermedad cardiovascular a través del análisis de los latidos del corazón.\n",
    "\n",
    "**Instrucciones:**\n",
    "\n",
    "- Se usará el lenguaje de programación Python 3.\n",
    "- Se usarán las librerías de python: Pandas, MatPlotLib, Numpy y keras.\n",
    "\n",
    "**Mediante este ejercicio, aprenderemos:**\n",
    "- Entender y ejecutar los NoteBooks con Python.\n",
    "- Ser capaz de utilizar funciones de Python y librerías adicionales.\n",
    "- Dataset:\n",
    " - Obtener el dataset y previsualizar la información del dataset.\n",
    " - Limpiar y normalizar la información del dataset.\n",
    " - Representar y analizar la información del dataset.\n",
    "- Aplicar un modelo de NN .\n",
    "- Mejorar la predicción optimizando el modelo.\n",
    "\n",
    "Este ejercicio está basado en un [paper](https://arxiv.org/pdf/1805.00794.pdf) que resuelve el problema al que nos enfrentamos. Tomadlo como una fuente de inspiración.\n",
    "\n",
    "¡Empecemos!"
   ]
  },
  {
   "cell_type": "markdown",
   "metadata": {},
   "source": [
    "#0. Importación de librerias"
   ]
  },
  {
   "cell_type": "markdown",
   "metadata": {},
   "source": [
    "import pandas as pd\n",
    "import matplotlib.pyplot as plt\n",
    "import numpy as np"
   ]
  },
  {
   "cell_type": "markdown",
   "metadata": {},
   "source": [
    "## Análisis de datos"
   ]
  },
  {
   "cell_type": "markdown",
   "metadata": {},
   "source": [
    "#1. Importa el dataset."
   ]
  },
  {
   "cell_type": "code",
   "execution_count": 245,
   "metadata": {},
   "outputs": [],
   "source": [
    "#Solo una linea de código.\n",
    "data = pd.read_csv('mitbih_train.csv', header=None)"
   ]
  },
  {
   "cell_type": "markdown",
   "metadata": {},
   "source": [
    "#2. ¿Que forma tiene el dataset?"
   ]
  },
  {
   "cell_type": "code",
   "execution_count": 246,
   "metadata": {},
   "outputs": [
    {
     "data": {
      "text/plain": [
       "(87554, 188)"
      ]
     },
     "execution_count": 246,
     "metadata": {},
     "output_type": "execute_result"
    }
   ],
   "source": [
    "#Solo una linea de código.\n",
    "data.shape"
   ]
  },
  {
   "cell_type": "markdown",
   "metadata": {},
   "source": [
    "#3. Vamos a ver como son los datos. Muestra las primero cinco filas del dataset."
   ]
  },
  {
   "cell_type": "code",
   "execution_count": 247,
   "metadata": {
    "scrolled": true
   },
   "outputs": [
    {
     "data": {
      "text/html": [
       "<div>\n",
       "<style scoped>\n",
       "    .dataframe tbody tr th:only-of-type {\n",
       "        vertical-align: middle;\n",
       "    }\n",
       "\n",
       "    .dataframe tbody tr th {\n",
       "        vertical-align: top;\n",
       "    }\n",
       "\n",
       "    .dataframe thead th {\n",
       "        text-align: right;\n",
       "    }\n",
       "</style>\n",
       "<table border=\"1\" class=\"dataframe\">\n",
       "  <thead>\n",
       "    <tr style=\"text-align: right;\">\n",
       "      <th></th>\n",
       "      <th>0</th>\n",
       "      <th>1</th>\n",
       "      <th>2</th>\n",
       "      <th>3</th>\n",
       "      <th>4</th>\n",
       "      <th>5</th>\n",
       "      <th>6</th>\n",
       "      <th>7</th>\n",
       "      <th>8</th>\n",
       "      <th>9</th>\n",
       "      <th>...</th>\n",
       "      <th>178</th>\n",
       "      <th>179</th>\n",
       "      <th>180</th>\n",
       "      <th>181</th>\n",
       "      <th>182</th>\n",
       "      <th>183</th>\n",
       "      <th>184</th>\n",
       "      <th>185</th>\n",
       "      <th>186</th>\n",
       "      <th>187</th>\n",
       "    </tr>\n",
       "  </thead>\n",
       "  <tbody>\n",
       "    <tr>\n",
       "      <th>0</th>\n",
       "      <td>0.977941</td>\n",
       "      <td>0.926471</td>\n",
       "      <td>0.681373</td>\n",
       "      <td>0.245098</td>\n",
       "      <td>0.154412</td>\n",
       "      <td>0.191176</td>\n",
       "      <td>0.151961</td>\n",
       "      <td>0.085784</td>\n",
       "      <td>0.058824</td>\n",
       "      <td>0.049020</td>\n",
       "      <td>...</td>\n",
       "      <td>0.0</td>\n",
       "      <td>0.0</td>\n",
       "      <td>0.0</td>\n",
       "      <td>0.0</td>\n",
       "      <td>0.0</td>\n",
       "      <td>0.0</td>\n",
       "      <td>0.0</td>\n",
       "      <td>0.0</td>\n",
       "      <td>0.0</td>\n",
       "      <td>0.0</td>\n",
       "    </tr>\n",
       "    <tr>\n",
       "      <th>1</th>\n",
       "      <td>0.960114</td>\n",
       "      <td>0.863248</td>\n",
       "      <td>0.461538</td>\n",
       "      <td>0.196581</td>\n",
       "      <td>0.094017</td>\n",
       "      <td>0.125356</td>\n",
       "      <td>0.099715</td>\n",
       "      <td>0.088319</td>\n",
       "      <td>0.074074</td>\n",
       "      <td>0.082621</td>\n",
       "      <td>...</td>\n",
       "      <td>0.0</td>\n",
       "      <td>0.0</td>\n",
       "      <td>0.0</td>\n",
       "      <td>0.0</td>\n",
       "      <td>0.0</td>\n",
       "      <td>0.0</td>\n",
       "      <td>0.0</td>\n",
       "      <td>0.0</td>\n",
       "      <td>0.0</td>\n",
       "      <td>0.0</td>\n",
       "    </tr>\n",
       "    <tr>\n",
       "      <th>2</th>\n",
       "      <td>1.000000</td>\n",
       "      <td>0.659459</td>\n",
       "      <td>0.186486</td>\n",
       "      <td>0.070270</td>\n",
       "      <td>0.070270</td>\n",
       "      <td>0.059459</td>\n",
       "      <td>0.056757</td>\n",
       "      <td>0.043243</td>\n",
       "      <td>0.054054</td>\n",
       "      <td>0.045946</td>\n",
       "      <td>...</td>\n",
       "      <td>0.0</td>\n",
       "      <td>0.0</td>\n",
       "      <td>0.0</td>\n",
       "      <td>0.0</td>\n",
       "      <td>0.0</td>\n",
       "      <td>0.0</td>\n",
       "      <td>0.0</td>\n",
       "      <td>0.0</td>\n",
       "      <td>0.0</td>\n",
       "      <td>0.0</td>\n",
       "    </tr>\n",
       "    <tr>\n",
       "      <th>3</th>\n",
       "      <td>0.925414</td>\n",
       "      <td>0.665746</td>\n",
       "      <td>0.541436</td>\n",
       "      <td>0.276243</td>\n",
       "      <td>0.196133</td>\n",
       "      <td>0.077348</td>\n",
       "      <td>0.071823</td>\n",
       "      <td>0.060773</td>\n",
       "      <td>0.066298</td>\n",
       "      <td>0.058011</td>\n",
       "      <td>...</td>\n",
       "      <td>0.0</td>\n",
       "      <td>0.0</td>\n",
       "      <td>0.0</td>\n",
       "      <td>0.0</td>\n",
       "      <td>0.0</td>\n",
       "      <td>0.0</td>\n",
       "      <td>0.0</td>\n",
       "      <td>0.0</td>\n",
       "      <td>0.0</td>\n",
       "      <td>0.0</td>\n",
       "    </tr>\n",
       "    <tr>\n",
       "      <th>4</th>\n",
       "      <td>0.967136</td>\n",
       "      <td>1.000000</td>\n",
       "      <td>0.830986</td>\n",
       "      <td>0.586854</td>\n",
       "      <td>0.356808</td>\n",
       "      <td>0.248826</td>\n",
       "      <td>0.145540</td>\n",
       "      <td>0.089202</td>\n",
       "      <td>0.117371</td>\n",
       "      <td>0.150235</td>\n",
       "      <td>...</td>\n",
       "      <td>0.0</td>\n",
       "      <td>0.0</td>\n",
       "      <td>0.0</td>\n",
       "      <td>0.0</td>\n",
       "      <td>0.0</td>\n",
       "      <td>0.0</td>\n",
       "      <td>0.0</td>\n",
       "      <td>0.0</td>\n",
       "      <td>0.0</td>\n",
       "      <td>0.0</td>\n",
       "    </tr>\n",
       "  </tbody>\n",
       "</table>\n",
       "<p>5 rows × 188 columns</p>\n",
       "</div>"
      ],
      "text/plain": [
       "        0         1         2         3         4         5         6    \\\n",
       "0  0.977941  0.926471  0.681373  0.245098  0.154412  0.191176  0.151961   \n",
       "1  0.960114  0.863248  0.461538  0.196581  0.094017  0.125356  0.099715   \n",
       "2  1.000000  0.659459  0.186486  0.070270  0.070270  0.059459  0.056757   \n",
       "3  0.925414  0.665746  0.541436  0.276243  0.196133  0.077348  0.071823   \n",
       "4  0.967136  1.000000  0.830986  0.586854  0.356808  0.248826  0.145540   \n",
       "\n",
       "        7         8         9    ...  178  179  180  181  182  183  184  185  \\\n",
       "0  0.085784  0.058824  0.049020  ...  0.0  0.0  0.0  0.0  0.0  0.0  0.0  0.0   \n",
       "1  0.088319  0.074074  0.082621  ...  0.0  0.0  0.0  0.0  0.0  0.0  0.0  0.0   \n",
       "2  0.043243  0.054054  0.045946  ...  0.0  0.0  0.0  0.0  0.0  0.0  0.0  0.0   \n",
       "3  0.060773  0.066298  0.058011  ...  0.0  0.0  0.0  0.0  0.0  0.0  0.0  0.0   \n",
       "4  0.089202  0.117371  0.150235  ...  0.0  0.0  0.0  0.0  0.0  0.0  0.0  0.0   \n",
       "\n",
       "   186  187  \n",
       "0  0.0  0.0  \n",
       "1  0.0  0.0  \n",
       "2  0.0  0.0  \n",
       "3  0.0  0.0  \n",
       "4  0.0  0.0  \n",
       "\n",
       "[5 rows x 188 columns]"
      ]
     },
     "execution_count": 247,
     "metadata": {},
     "output_type": "execute_result"
    }
   ],
   "source": [
    "data.head()"
   ]
  },
  {
   "cell_type": "markdown",
   "metadata": {},
   "source": [
    "Este es el dataset de hoy. Esta vez, cada columna representa una lectura del electrocardiograma (recogido a 125Hz). Si en total hay 187 lecturas, en estas columnas tenemos alrededor de segundo y medio de pulsaciones. La última columna contiene la categoría a la que pertenecen estas pulsaciones. En total hay cinco, cada una representada por un número: \n",
    "\n",
    "- Normal: 0\n",
    "- Arritmia prematura (atrial, aberrante-atrial, nodal o supra-ventricular) : 1\n",
    "- Contracción prematura ventricular o escape ventricular: 2\n",
    "- Fusión de la contracción ventricular y normal: 3\n",
    "- Resucitación, fusión de normal y resucitación o inclasificable: 4\n"
   ]
  },
  {
   "cell_type": "markdown",
   "metadata": {},
   "source": [
    "#4. Describe la distribución de los datos."
   ]
  },
  {
   "cell_type": "code",
   "execution_count": 248,
   "metadata": {},
   "outputs": [
    {
     "data": {
      "text/html": [
       "<div>\n",
       "<style scoped>\n",
       "    .dataframe tbody tr th:only-of-type {\n",
       "        vertical-align: middle;\n",
       "    }\n",
       "\n",
       "    .dataframe tbody tr th {\n",
       "        vertical-align: top;\n",
       "    }\n",
       "\n",
       "    .dataframe thead th {\n",
       "        text-align: right;\n",
       "    }\n",
       "</style>\n",
       "<table border=\"1\" class=\"dataframe\">\n",
       "  <thead>\n",
       "    <tr style=\"text-align: right;\">\n",
       "      <th></th>\n",
       "      <th>0</th>\n",
       "      <th>1</th>\n",
       "      <th>2</th>\n",
       "      <th>3</th>\n",
       "      <th>4</th>\n",
       "      <th>5</th>\n",
       "      <th>6</th>\n",
       "      <th>7</th>\n",
       "      <th>8</th>\n",
       "      <th>9</th>\n",
       "      <th>...</th>\n",
       "      <th>178</th>\n",
       "      <th>179</th>\n",
       "      <th>180</th>\n",
       "      <th>181</th>\n",
       "      <th>182</th>\n",
       "      <th>183</th>\n",
       "      <th>184</th>\n",
       "      <th>185</th>\n",
       "      <th>186</th>\n",
       "      <th>187</th>\n",
       "    </tr>\n",
       "  </thead>\n",
       "  <tbody>\n",
       "    <tr>\n",
       "      <th>count</th>\n",
       "      <td>87554.000000</td>\n",
       "      <td>87554.000000</td>\n",
       "      <td>87554.000000</td>\n",
       "      <td>87554.000000</td>\n",
       "      <td>87554.000000</td>\n",
       "      <td>87554.000000</td>\n",
       "      <td>87554.000000</td>\n",
       "      <td>87554.000000</td>\n",
       "      <td>87554.000000</td>\n",
       "      <td>87554.000000</td>\n",
       "      <td>...</td>\n",
       "      <td>87554.000000</td>\n",
       "      <td>87554.000000</td>\n",
       "      <td>87554.000000</td>\n",
       "      <td>87554.000000</td>\n",
       "      <td>87554.000000</td>\n",
       "      <td>87554.000000</td>\n",
       "      <td>87554.000000</td>\n",
       "      <td>87554.000000</td>\n",
       "      <td>87554.000000</td>\n",
       "      <td>87554.000000</td>\n",
       "    </tr>\n",
       "    <tr>\n",
       "      <th>mean</th>\n",
       "      <td>0.890360</td>\n",
       "      <td>0.758160</td>\n",
       "      <td>0.423972</td>\n",
       "      <td>0.219104</td>\n",
       "      <td>0.201127</td>\n",
       "      <td>0.210399</td>\n",
       "      <td>0.205808</td>\n",
       "      <td>0.201773</td>\n",
       "      <td>0.198691</td>\n",
       "      <td>0.196757</td>\n",
       "      <td>...</td>\n",
       "      <td>0.005025</td>\n",
       "      <td>0.004628</td>\n",
       "      <td>0.004291</td>\n",
       "      <td>0.003945</td>\n",
       "      <td>0.003681</td>\n",
       "      <td>0.003471</td>\n",
       "      <td>0.003221</td>\n",
       "      <td>0.002945</td>\n",
       "      <td>0.002807</td>\n",
       "      <td>0.473376</td>\n",
       "    </tr>\n",
       "    <tr>\n",
       "      <th>std</th>\n",
       "      <td>0.240909</td>\n",
       "      <td>0.221813</td>\n",
       "      <td>0.227305</td>\n",
       "      <td>0.206878</td>\n",
       "      <td>0.177058</td>\n",
       "      <td>0.171909</td>\n",
       "      <td>0.178481</td>\n",
       "      <td>0.177240</td>\n",
       "      <td>0.171778</td>\n",
       "      <td>0.168357</td>\n",
       "      <td>...</td>\n",
       "      <td>0.044154</td>\n",
       "      <td>0.042089</td>\n",
       "      <td>0.040525</td>\n",
       "      <td>0.038651</td>\n",
       "      <td>0.037193</td>\n",
       "      <td>0.036255</td>\n",
       "      <td>0.034789</td>\n",
       "      <td>0.032865</td>\n",
       "      <td>0.031924</td>\n",
       "      <td>1.143184</td>\n",
       "    </tr>\n",
       "    <tr>\n",
       "      <th>min</th>\n",
       "      <td>0.000000</td>\n",
       "      <td>0.000000</td>\n",
       "      <td>0.000000</td>\n",
       "      <td>0.000000</td>\n",
       "      <td>0.000000</td>\n",
       "      <td>0.000000</td>\n",
       "      <td>0.000000</td>\n",
       "      <td>0.000000</td>\n",
       "      <td>0.000000</td>\n",
       "      <td>0.000000</td>\n",
       "      <td>...</td>\n",
       "      <td>0.000000</td>\n",
       "      <td>0.000000</td>\n",
       "      <td>0.000000</td>\n",
       "      <td>0.000000</td>\n",
       "      <td>0.000000</td>\n",
       "      <td>0.000000</td>\n",
       "      <td>0.000000</td>\n",
       "      <td>0.000000</td>\n",
       "      <td>0.000000</td>\n",
       "      <td>0.000000</td>\n",
       "    </tr>\n",
       "    <tr>\n",
       "      <th>25%</th>\n",
       "      <td>0.921922</td>\n",
       "      <td>0.682486</td>\n",
       "      <td>0.250969</td>\n",
       "      <td>0.048458</td>\n",
       "      <td>0.082329</td>\n",
       "      <td>0.088416</td>\n",
       "      <td>0.073333</td>\n",
       "      <td>0.066116</td>\n",
       "      <td>0.065000</td>\n",
       "      <td>0.068639</td>\n",
       "      <td>...</td>\n",
       "      <td>0.000000</td>\n",
       "      <td>0.000000</td>\n",
       "      <td>0.000000</td>\n",
       "      <td>0.000000</td>\n",
       "      <td>0.000000</td>\n",
       "      <td>0.000000</td>\n",
       "      <td>0.000000</td>\n",
       "      <td>0.000000</td>\n",
       "      <td>0.000000</td>\n",
       "      <td>0.000000</td>\n",
       "    </tr>\n",
       "    <tr>\n",
       "      <th>50%</th>\n",
       "      <td>0.991342</td>\n",
       "      <td>0.826013</td>\n",
       "      <td>0.429472</td>\n",
       "      <td>0.166000</td>\n",
       "      <td>0.147878</td>\n",
       "      <td>0.158798</td>\n",
       "      <td>0.145324</td>\n",
       "      <td>0.144424</td>\n",
       "      <td>0.150000</td>\n",
       "      <td>0.148734</td>\n",
       "      <td>...</td>\n",
       "      <td>0.000000</td>\n",
       "      <td>0.000000</td>\n",
       "      <td>0.000000</td>\n",
       "      <td>0.000000</td>\n",
       "      <td>0.000000</td>\n",
       "      <td>0.000000</td>\n",
       "      <td>0.000000</td>\n",
       "      <td>0.000000</td>\n",
       "      <td>0.000000</td>\n",
       "      <td>0.000000</td>\n",
       "    </tr>\n",
       "    <tr>\n",
       "      <th>75%</th>\n",
       "      <td>1.000000</td>\n",
       "      <td>0.910506</td>\n",
       "      <td>0.578767</td>\n",
       "      <td>0.341727</td>\n",
       "      <td>0.258993</td>\n",
       "      <td>0.287628</td>\n",
       "      <td>0.298237</td>\n",
       "      <td>0.295391</td>\n",
       "      <td>0.290832</td>\n",
       "      <td>0.283636</td>\n",
       "      <td>...</td>\n",
       "      <td>0.000000</td>\n",
       "      <td>0.000000</td>\n",
       "      <td>0.000000</td>\n",
       "      <td>0.000000</td>\n",
       "      <td>0.000000</td>\n",
       "      <td>0.000000</td>\n",
       "      <td>0.000000</td>\n",
       "      <td>0.000000</td>\n",
       "      <td>0.000000</td>\n",
       "      <td>0.000000</td>\n",
       "    </tr>\n",
       "    <tr>\n",
       "      <th>max</th>\n",
       "      <td>1.000000</td>\n",
       "      <td>1.000000</td>\n",
       "      <td>1.000000</td>\n",
       "      <td>1.000000</td>\n",
       "      <td>1.000000</td>\n",
       "      <td>1.000000</td>\n",
       "      <td>1.000000</td>\n",
       "      <td>1.000000</td>\n",
       "      <td>1.000000</td>\n",
       "      <td>1.000000</td>\n",
       "      <td>...</td>\n",
       "      <td>1.000000</td>\n",
       "      <td>1.000000</td>\n",
       "      <td>1.000000</td>\n",
       "      <td>1.000000</td>\n",
       "      <td>1.000000</td>\n",
       "      <td>1.000000</td>\n",
       "      <td>1.000000</td>\n",
       "      <td>1.000000</td>\n",
       "      <td>1.000000</td>\n",
       "      <td>4.000000</td>\n",
       "    </tr>\n",
       "  </tbody>\n",
       "</table>\n",
       "<p>8 rows × 188 columns</p>\n",
       "</div>"
      ],
      "text/plain": [
       "                0             1             2             3             4    \\\n",
       "count  87554.000000  87554.000000  87554.000000  87554.000000  87554.000000   \n",
       "mean       0.890360      0.758160      0.423972      0.219104      0.201127   \n",
       "std        0.240909      0.221813      0.227305      0.206878      0.177058   \n",
       "min        0.000000      0.000000      0.000000      0.000000      0.000000   \n",
       "25%        0.921922      0.682486      0.250969      0.048458      0.082329   \n",
       "50%        0.991342      0.826013      0.429472      0.166000      0.147878   \n",
       "75%        1.000000      0.910506      0.578767      0.341727      0.258993   \n",
       "max        1.000000      1.000000      1.000000      1.000000      1.000000   \n",
       "\n",
       "                5             6             7             8             9    \\\n",
       "count  87554.000000  87554.000000  87554.000000  87554.000000  87554.000000   \n",
       "mean       0.210399      0.205808      0.201773      0.198691      0.196757   \n",
       "std        0.171909      0.178481      0.177240      0.171778      0.168357   \n",
       "min        0.000000      0.000000      0.000000      0.000000      0.000000   \n",
       "25%        0.088416      0.073333      0.066116      0.065000      0.068639   \n",
       "50%        0.158798      0.145324      0.144424      0.150000      0.148734   \n",
       "75%        0.287628      0.298237      0.295391      0.290832      0.283636   \n",
       "max        1.000000      1.000000      1.000000      1.000000      1.000000   \n",
       "\n",
       "       ...           178           179           180           181  \\\n",
       "count  ...  87554.000000  87554.000000  87554.000000  87554.000000   \n",
       "mean   ...      0.005025      0.004628      0.004291      0.003945   \n",
       "std    ...      0.044154      0.042089      0.040525      0.038651   \n",
       "min    ...      0.000000      0.000000      0.000000      0.000000   \n",
       "25%    ...      0.000000      0.000000      0.000000      0.000000   \n",
       "50%    ...      0.000000      0.000000      0.000000      0.000000   \n",
       "75%    ...      0.000000      0.000000      0.000000      0.000000   \n",
       "max    ...      1.000000      1.000000      1.000000      1.000000   \n",
       "\n",
       "                182           183           184           185           186  \\\n",
       "count  87554.000000  87554.000000  87554.000000  87554.000000  87554.000000   \n",
       "mean       0.003681      0.003471      0.003221      0.002945      0.002807   \n",
       "std        0.037193      0.036255      0.034789      0.032865      0.031924   \n",
       "min        0.000000      0.000000      0.000000      0.000000      0.000000   \n",
       "25%        0.000000      0.000000      0.000000      0.000000      0.000000   \n",
       "50%        0.000000      0.000000      0.000000      0.000000      0.000000   \n",
       "75%        0.000000      0.000000      0.000000      0.000000      0.000000   \n",
       "max        1.000000      1.000000      1.000000      1.000000      1.000000   \n",
       "\n",
       "                187  \n",
       "count  87554.000000  \n",
       "mean       0.473376  \n",
       "std        1.143184  \n",
       "min        0.000000  \n",
       "25%        0.000000  \n",
       "50%        0.000000  \n",
       "75%        0.000000  \n",
       "max        4.000000  \n",
       "\n",
       "[8 rows x 188 columns]"
      ]
     },
     "execution_count": 248,
     "metadata": {},
     "output_type": "execute_result"
    }
   ],
   "source": [
    "#Solo una linea de código.\n",
    "data.describe()"
   ]
  },
  {
   "cell_type": "markdown",
   "metadata": {},
   "source": [
    "#5. Vamos a ver como es uno de estos electrocardiogramas. Haz una gráfica con los datos de una de las filas."
   ]
  },
  {
   "cell_type": "code",
   "execution_count": 249,
   "metadata": {
    "scrolled": true
   },
   "outputs": [
    {
     "data": {
      "text/plain": [
       "[<matplotlib.lines.Line2D at 0x25b3e4a91c8>]"
      ]
     },
     "execution_count": 249,
     "metadata": {},
     "output_type": "execute_result"
    },
    {
     "data": {
      "image/png": "[encoded data removed]",
      "text/plain": [
       "<Figure size 432x288 with 1 Axes>"
      ]
     },
     "metadata": {
      "needs_background": "light"
     },
     "output_type": "display_data"
    }
   ],
   "source": [
    "plt.plot(data.iloc[3])"
   ]
  },
  {
   "cell_type": "markdown",
   "metadata": {},
   "source": [
    "#6. Ahora que hemos visualizadon nuestros datos, vamos a trabajar con ellos. Primero tenemos que dividirlos entre input y output. Divide el dataset en dos: una parte que contenga todas las columnas con datos del electrocardiograma y otro con las etiquetas. Transformar el dataset en un array de Numpy lo hace mas facil porque puedes usar slicing. "
   ]
  },
  {
   "cell_type": "code",
   "execution_count": 250,
   "metadata": {},
   "outputs": [],
   "source": [
    "#Dos lineas de código, usando .values o .loc. y slicing\n",
    "M = data.values\n",
    "X = M[ : ,:-1]\n",
    "y = M[ : , -1].astype(int)"
   ]
  },
  {
   "cell_type": "markdown",
   "metadata": {},
   "source": [
    "#7. Crea arrays con los índices de los ejemplos que pertenecen a cada categoría. La función [np.argwhere](https://docs.scipy.org/doc/numpy/reference/generated/numpy.argwhere.html) biene muy bien aquí. "
   ]
  },
  {
   "cell_type": "code",
   "execution_count": 251,
   "metadata": {},
   "outputs": [],
   "source": [
    "#5 lineas de código\n",
    "C0 = np.argwhere(y == 0).flatten()\n",
    "C1 = np.argwhere(y == 1).flatten()\n",
    "C2 = np.argwhere(y == 2).flatten()\n",
    "C3 = np.argwhere(y == 3).flatten()\n",
    "C4 = np.argwhere(y == 4).flatten()"
   ]
  },
  {
   "cell_type": "markdown",
   "metadata": {},
   "source": [
    "#8. Cuenta cuantos ejemplos tenemos de cada categoría."
   ]
  },
  {
   "cell_type": "code",
   "execution_count": 252,
   "metadata": {
    "scrolled": true
   },
   "outputs": [
    {
     "name": "stdout",
     "output_type": "stream",
     "text": [
      "Hay 72471 muestras de la categoría N\n",
      "Hay 2223 muestras de la categoría S\n",
      "Hay 5788 muestras de la categoría V\n",
      "Hay 641 muestras de la categoría F\n",
      "Hay 6431 muestras de la categoría Q\n"
     ]
    }
   ],
   "source": [
    "#5 lineas de código\n",
    "u = {'N': C0, 'S': C1, 'V': C2, 'F': C3, 'Q': C4}\n",
    "www = []\n",
    "for k in u:\n",
    "    print('Hay {} muestras de la categoría {}'.format(len(u[k]), k))\n",
    "    www.append(len(u[k]))"
   ]
  },
  {
   "cell_type": "markdown",
   "metadata": {},
   "source": [
    "#9. Para ver mejor cuantos tenemos de cada tipo vamos a hacer un gráfico de barras. Utiliza [plt.bar](https://matplotlib.org/3.1.1/api/_as_gen/matplotlib.pyplot.bar.html) con una label apropiada para cada barra."
   ]
  },
  {
   "cell_type": "code",
   "execution_count": 253,
   "metadata": {},
   "outputs": [
    {
     "data": {
      "text/plain": [
       "<BarContainer object of 5 artists>"
      ]
     },
     "execution_count": 253,
     "metadata": {},
     "output_type": "execute_result"
    },
    {
     "data": {
      "image/png": "[encoded data removed]",
      "text/plain": [
       "<Figure size 432x288 with 1 Axes>"
      ]
     },
     "metadata": {
      "needs_background": "light"
     },
     "output_type": "display_data"
    }
   ],
   "source": [
    "#Dos lineas de código\n",
    "labels = list(u.keys())\n",
    "plt.bar(labels, www)"
   ]
  },
  {
   "cell_type": "markdown",
   "metadata": {},
   "source": [
    "#10. Finalmente, vamos a comparar electrocardiogramas de un tipo con los otros con otra gráfica. Dibuja un electrocardiograma de cada tipo, uno encima del otro. Puntos extra por ponerle un título y leyenda."
   ]
  },
  {
   "cell_type": "code",
   "execution_count": 254,
   "metadata": {},
   "outputs": [
    {
     "data": {
      "text/plain": [
       "Text(0.5, 1.0, 'Diferentes clases')"
      ]
     },
     "execution_count": 254,
     "metadata": {},
     "output_type": "execute_result"
    },
    {
     "data": {
      "image/png": "[encoded data removed]",
      "text/plain": [
       "<Figure size 1080x576 with 1 Axes>"
      ]
     },
     "metadata": {
      "needs_background": "light"
     },
     "output_type": "display_data"
    }
   ],
   "source": [
    "#6 lineas de código\n",
    "plt.figure(figsize=(15,8))\n",
    "plt.plot(M[C0[20]], label='N')\n",
    "plt.plot(M[C1[20]], label='S')\n",
    "plt.plot(M[C2[10]], label='V')\n",
    "plt.legend()\n",
    "plt.title('Diferentes clases')"
   ]
  },
  {
   "cell_type": "markdown",
   "metadata": {},
   "source": [
    "## Preparación de datos"
   ]
  },
  {
   "cell_type": "markdown",
   "metadata": {},
   "source": [
    "#11. La mejor forma de tratar con categorias es utilizar un OneHotEncoding. Transforma Y a su OneHotEncoding."
   ]
  },
  {
   "cell_type": "code",
   "execution_count": 255,
   "metadata": {},
   "outputs": [],
   "source": [
    "from keras.utils.np_utils import to_categorical\n",
    "y_Hot = to_categorical(y, num_classes = 5)"
   ]
  },
  {
   "cell_type": "markdown",
   "metadata": {},
   "source": [
    "#12. Comprueba que el OneHotEncoding ha funcionado, es decir, que por cada columna en la Y original se han creado 5, y que los valores del original y el OneHotEncoding se corresponden entre sí."
   ]
  },
  {
   "cell_type": "code",
   "execution_count": 265,
   "metadata": {},
   "outputs": [
    {
     "name": "stdout",
     "output_type": "stream",
     "text": [
      "(87554,)\n",
      "(87554, 5)\n",
      "0\n",
      "[1. 0. 0. 0. 0.]\n"
     ]
    }
   ],
   "source": [
    "print(y.shape)\n",
    "print(y_Hot.shape)\n",
    "print(y[20000])\n",
    "print(y_Hot[20000])"
   ]
  },
  {
   "cell_type": "markdown",
   "metadata": {},
   "source": [
    "#13. Mezcla X e Y de forma aleatoria(para que las etiquetas todavía se refieran a los ejemplos originales, usa [shuffle](https://scikit-learn.org/stable/modules/generated/sklearn.utils.shuffle.html))."
   ]
  },
  {
   "cell_type": "code",
   "execution_count": 258,
   "metadata": {},
   "outputs": [],
   "source": [
    "from sklearn.utils import shuffle\n",
    "\n",
    "X_shuffled, y_shuffled = shuffle(X, y_Hot)"
   ]
  },
  {
   "cell_type": "code",
   "execution_count": 259,
   "metadata": {},
   "outputs": [],
   "source": [
    "#Comprobamos que tienen la misma forma\n",
    "assert X_shuffled.shape == X.shape\n",
    "assert y_shuffled.shape == y_Hot.shape"
   ]
  },
  {
   "cell_type": "code",
   "execution_count": 266,
   "metadata": {},
   "outputs": [],
   "source": [
    "#liberamos memoria\n",
    "del X\n",
    "del y_Hot"
   ]
  },
  {
   "cell_type": "markdown",
   "metadata": {},
   "source": [
    "#14. Para poder introducir los datos en el modelo, necesitamos que cada punto de información esté solo dentro del array (no podemos dar un array como valor). Antes teníamos los datos estructurados así:\n",
    "\n",
    "$ X = [[a_1,a_2,a_3...,a_n],[b_1,b_2,b_3...,b_n]...[z_1,z_2,z_3,z_n] $\n",
    "\n",
    "Para poder usarlos necesitamos aislar cada uno de esos valores, sin eliminar su agrupación por ejemplos. Es decir:\n",
    "\n",
    "$ X = [[[a_1],[a_2],[a_3]...,[a_n]],[[b_1],[b_2],[b_3]...,[b_n]]...[[z_1],[z_2],[z_3],[z_n]] $\n",
    "\n",
    "Esto se consigue utilizando la función [expand_dims](https://docs.scipy.org/doc/numpy/reference/generated/numpy.expand_dims.html) de numpy."
   ]
  },
  {
   "cell_type": "code",
   "execution_count": 271,
   "metadata": {},
   "outputs": [],
   "source": [
    "#Solo una linea de código\n",
    "X = np.expand_dims(X_shuffled, 2)"
   ]
  },
  {
   "cell_type": "markdown",
   "metadata": {},
   "source": [
    "#15. ¡Ya casi estamos! Solo no queda hacer un train_test_split y estaría todo listo para implementar el modelo."
   ]
  },
  {
   "cell_type": "code",
   "execution_count": 273,
   "metadata": {},
   "outputs": [],
   "source": [
    "#Dos lineas de código\n",
    "from sklearn.model_selection import train_test_split\n",
    "X_train, X_test, y_train, y_test = train_test_split(X, y_shuffled, test_size=0.2)"
   ]
  },
  {
   "cell_type": "markdown",
   "metadata": {},
   "source": [
    "## Modelos prometedores"
   ]
  },
  {
   "cell_type": "markdown",
   "metadata": {},
   "source": [
    "En esta parte del challenge os planteamos un modelo ya creado para que podais ver como funciona y trastear con los diferentes parámetros. "
   ]
  },
  {
   "cell_type": "markdown",
   "metadata": {},
   "source": [
    "Primero importamos unas pocas librerias para plantear el modelo:"
   ]
  },
  {
   "cell_type": "code",
   "execution_count": 275,
   "metadata": {},
   "outputs": [],
   "source": [
    "from sklearn import model_selection\n",
    "from sklearn.metrics import confusion_matrix\n",
    "\n",
    "import keras\n",
    "from keras.layers import Dense, Dropout, Activation, Flatten, Conv1D, Conv2D, MaxPooling1D, MaxPooling2D, Lambda, MaxPool2D, BatchNormalization\n",
    "from keras.utils import np_utils\n",
    "\n",
    "from keras import models, layers, optimizers\n",
    "from sklearn.model_selection import train_test_split\n",
    "from sklearn.metrics import confusion_matrix, accuracy_score\n",
    "from sklearn.utils import class_weight\n",
    "\n",
    "from keras.optimizers import SGD, RMSprop, Adam, Adagrad, Adadelta, RMSprop\n",
    "from keras.models import Sequential, model_from_json\n",
    "from keras.preprocessing.image import ImageDataGenerator\n",
    "from keras.callbacks import ReduceLROnPlateau, ModelCheckpoint\n",
    "from keras import backend as K\n",
    "from keras.applications.vgg16 import VGG16\n",
    "from keras.models import Model\n",
    "\n",
    "from sklearn.metrics import accuracy_score, classification_report, confusion_matrix, label_ranking_average_precision_score, label_ranking_loss, coverage_error \n",
    "import itertools"
   ]
  },
  {
   "cell_type": "markdown",
   "metadata": {},
   "source": [
    "#16. ¿Cual es la longitud de la entrada? (Esta será la cantidad de neuronas que tendremos en la primera capa).¿Cuantas neuronas tendremos en nuestra última capa? También necesitamos un batch_size si queremos entrenar la red neuronal con SGD."
   ]
  },
  {
   "cell_type": "code",
   "execution_count": 285,
   "metadata": {},
   "outputs": [],
   "source": [
    "signal_length = 187\n",
    "batch_size = 1024\n",
    "n_classes = 5"
   ]
  },
  {
   "cell_type": "markdown",
   "metadata": {},
   "source": [
    "Este es el modelo de la red neuronal. Tiene cuatro capas, dos de ellas ocultas, y utiliza como función de activación ReLU. "
   ]
  },
  {
   "cell_type": "code",
   "execution_count": 286,
   "metadata": {},
   "outputs": [
    {
     "name": "stdout",
     "output_type": "stream",
     "text": [
      "_________________________________________________________________\n",
      "Layer (type)                 Output Shape              Param #   \n",
      "=================================================================\n",
      "conv1d_9 (Conv1D)            (None, 183, 32)           192       \n",
      "_________________________________________________________________\n",
      "dropout_11 (Dropout)         (None, 183, 32)           0         \n",
      "_________________________________________________________________\n",
      "batch_normalization_9 (Batch (None, 183, 32)           128       \n",
      "_________________________________________________________________\n",
      "activation_9 (Activation)    (None, 183, 32)           0         \n",
      "_________________________________________________________________\n",
      "conv1d_10 (Conv1D)           (None, 180, 32)           4128      \n",
      "_________________________________________________________________\n",
      "dropout_12 (Dropout)         (None, 180, 32)           0         \n",
      "_________________________________________________________________\n",
      "batch_normalization_10 (Batc (None, 180, 32)           128       \n",
      "_________________________________________________________________\n",
      "activation_10 (Activation)   (None, 180, 32)           0         \n",
      "_________________________________________________________________\n",
      "max_pooling1d_7 (MaxPooling1 (None, 90, 32)            0         \n",
      "_________________________________________________________________\n",
      "conv1d_11 (Conv1D)           (None, 87, 32)            4128      \n",
      "_________________________________________________________________\n",
      "dropout_13 (Dropout)         (None, 87, 32)            0         \n",
      "_________________________________________________________________\n",
      "batch_normalization_11 (Batc (None, 87, 32)            128       \n",
      "_________________________________________________________________\n",
      "activation_11 (Activation)   (None, 87, 32)            0         \n",
      "_________________________________________________________________\n",
      "max_pooling1d_8 (MaxPooling1 (None, 43, 32)            0         \n",
      "_________________________________________________________________\n",
      "conv1d_12 (Conv1D)           (None, 40, 32)            4128      \n",
      "_________________________________________________________________\n",
      "dropout_14 (Dropout)         (None, 40, 32)            0         \n",
      "_________________________________________________________________\n",
      "batch_normalization_12 (Batc (None, 40, 32)            128       \n",
      "_________________________________________________________________\n",
      "activation_12 (Activation)   (None, 40, 32)            0         \n",
      "_________________________________________________________________\n",
      "max_pooling1d_9 (MaxPooling1 (None, 20, 32)            0         \n",
      "_________________________________________________________________\n",
      "flatten_3 (Flatten)          (None, 640)               0         \n",
      "_________________________________________________________________\n",
      "dense_4 (Dense)              (None, 128)               82048     \n",
      "_________________________________________________________________\n",
      "dropout_15 (Dropout)         (None, 128)               0         \n",
      "_________________________________________________________________\n",
      "dense_5 (Dense)              (None, 5)                 645       \n",
      "=================================================================\n",
      "Total params: 95,781\n",
      "Trainable params: 95,525\n",
      "Non-trainable params: 256\n",
      "_________________________________________________________________\n"
     ]
    }
   ],
   "source": [
    "model = Sequential()\n",
    "\n",
    "model.add(Conv1D(32, kernel_size=(5), input_shape=(signal_length, 1)))\n",
    "model.add(Dropout(0.5))\n",
    "model.add(BatchNormalization())\n",
    "model.add(Activation('relu'))\n",
    "\n",
    "model.add(Conv1D(32, (4)))\n",
    "model.add(Dropout(0.5))\n",
    "model.add(BatchNormalization())\n",
    "model.add(Activation('relu'))\n",
    "model.add(MaxPooling1D(pool_size=(2)))\n",
    "\n",
    "model.add(Conv1D(32, (4)))\n",
    "model.add(Dropout(0.5))\n",
    "model.add(BatchNormalization())\n",
    "model.add(Activation('relu'))\n",
    "model.add(MaxPooling1D(pool_size=(2)))\n",
    "\n",
    "model.add(Conv1D(32, (4)))\n",
    "model.add(Dropout(0.5))\n",
    "model.add(BatchNormalization())\n",
    "model.add(Activation('relu'))\n",
    "model.add(MaxPooling1D(pool_size=(2)))\n",
    "\n",
    "model.add(Flatten())\n",
    "\n",
    "model.add(Dense(128, activation='sigmoid'))\n",
    "model.add(Dropout(0.5))\n",
    "model.add(Dense(n_classes, activation='softmax'))\n",
    "\n",
    "\n",
    "model.summary()\n",
    "model.compile(loss=keras.losses.categorical_crossentropy, \n",
    "              optimizer=keras.optimizers.Adadelta(),\n",
    "              metrics=['accuracy'])\n"
   ]
  },
  {
   "cell_type": "markdown",
   "metadata": {},
   "source": [
    "Para compilar el modelo, se llama .compile(). Aquí se especifica que función de pérdida usamos, que optimizador y que métricas queremos guardar de cada epoch."
   ]
  },
  {
   "cell_type": "code",
   "execution_count": 287,
   "metadata": {},
   "outputs": [],
   "source": [
    "model.compile(loss='categorical_crossentropy', optimizer=Adam(), metrics=['accuracy'])"
   ]
  },
  {
   "cell_type": "markdown",
   "metadata": {},
   "source": [
    "Ahora entrenamos el modelo un número de épocas y con una batch_size especifica. Esto nos devuelve un objeto history con la accuracy de todas las fases de entrenamiento."
   ]
  },
  {
   "cell_type": "code",
   "execution_count": 288,
   "metadata": {},
   "outputs": [
    {
     "name": "stdout",
     "output_type": "stream",
     "text": [
      "Train on 70043 samples, validate on 17511 samples\n",
      "Epoch 1/75\n",
      "70043/70043 [==============================] - 7s 98us/step - loss: 0.7200 - acc: 0.8017 - val_loss: 0.5794 - val_acc: 0.8304\n",
      "Epoch 2/75\n",
      "70043/70043 [==============================] - 4s 56us/step - loss: 0.4573 - acc: 0.8677 - val_loss: 0.5033 - val_acc: 0.8366\n",
      "Epoch 3/75\n",
      "70043/70043 [==============================] - 4s 57us/step - loss: 0.3433 - acc: 0.9043 - val_loss: 0.4597 - val_acc: 0.8454\n",
      "Epoch 4/75\n",
      "70043/70043 [==============================] - 4s 57us/step - loss: 0.2987 - acc: 0.9165 - val_loss: 0.3736 - val_acc: 0.8838\n",
      "Epoch 5/75\n",
      "70043/70043 [==============================] - 4s 56us/step - loss: 0.2710 - acc: 0.9265 - val_loss: 0.3309 - val_acc: 0.9110\n",
      "Epoch 6/75\n",
      "70043/70043 [==============================] - 4s 58us/step - loss: 0.2497 - acc: 0.9330 - val_loss: 0.3326 - val_acc: 0.9079\n",
      "Epoch 7/75\n",
      "70043/70043 [==============================] - 4s 57us/step - loss: 0.2313 - acc: 0.9383 - val_loss: 0.3018 - val_acc: 0.9355\n",
      "Epoch 8/75\n",
      "70043/70043 [==============================] - 4s 56us/step - loss: 0.2189 - acc: 0.9410 - val_loss: 0.2419 - val_acc: 0.9383\n",
      "Epoch 9/75\n",
      "70043/70043 [==============================] - 4s 56us/step - loss: 0.2066 - acc: 0.9433 - val_loss: 0.2362 - val_acc: 0.9452\n",
      "Epoch 10/75\n",
      "70043/70043 [==============================] - 4s 56us/step - loss: 0.1991 - acc: 0.9454 - val_loss: 0.1977 - val_acc: 0.9476\n",
      "Epoch 11/75\n",
      "70043/70043 [==============================] - 4s 57us/step - loss: 0.1916 - acc: 0.9468 - val_loss: 0.1765 - val_acc: 0.9512\n",
      "Epoch 12/75\n",
      "70043/70043 [==============================] - 4s 56us/step - loss: 0.1850 - acc: 0.9482 - val_loss: 0.1799 - val_acc: 0.9465\n",
      "Epoch 13/75\n",
      "70043/70043 [==============================] - 4s 57us/step - loss: 0.1791 - acc: 0.9507 - val_loss: 0.1644 - val_acc: 0.9512\n",
      "Epoch 14/75\n",
      "70043/70043 [==============================] - 4s 57us/step - loss: 0.1751 - acc: 0.9512 - val_loss: 0.1549 - val_acc: 0.9561\n",
      "Epoch 15/75\n",
      "70043/70043 [==============================] - 4s 57us/step - loss: 0.1648 - acc: 0.9540 - val_loss: 0.1425 - val_acc: 0.9581\n",
      "Epoch 16/75\n",
      "70043/70043 [==============================] - 4s 57us/step - loss: 0.1639 - acc: 0.9552 - val_loss: 0.1396 - val_acc: 0.9587\n",
      "Epoch 17/75\n",
      "70043/70043 [==============================] - 4s 57us/step - loss: 0.1584 - acc: 0.9563 - val_loss: 0.1338 - val_acc: 0.9607\n",
      "Epoch 18/75\n",
      "70043/70043 [==============================] - 4s 57us/step - loss: 0.1543 - acc: 0.9569 - val_loss: 0.1330 - val_acc: 0.9602\n",
      "Epoch 19/75\n",
      "70043/70043 [==============================] - 4s 57us/step - loss: 0.1522 - acc: 0.9577 - val_loss: 0.1241 - val_acc: 0.9644\n",
      "Epoch 20/75\n",
      "70043/70043 [==============================] - 4s 56us/step - loss: 0.1489 - acc: 0.9585 - val_loss: 0.1231 - val_acc: 0.9639\n",
      "Epoch 21/75\n",
      "70043/70043 [==============================] - 4s 57us/step - loss: 0.1463 - acc: 0.9591 - val_loss: 0.1336 - val_acc: 0.9590\n",
      "Epoch 22/75\n",
      "70043/70043 [==============================] - 4s 56us/step - loss: 0.1438 - acc: 0.9602 - val_loss: 0.1209 - val_acc: 0.9644\n",
      "Epoch 23/75\n",
      "70043/70043 [==============================] - 4s 60us/step - loss: 0.1402 - acc: 0.9611 - val_loss: 0.1155 - val_acc: 0.9666\n",
      "Epoch 24/75\n",
      "70043/70043 [==============================] - 4s 59us/step - loss: 0.1400 - acc: 0.9617 - val_loss: 0.1267 - val_acc: 0.9630\n",
      "Epoch 25/75\n",
      "70043/70043 [==============================] - 4s 57us/step - loss: 0.1350 - acc: 0.9625 - val_loss: 0.1169 - val_acc: 0.9647\n",
      "Epoch 26/75\n",
      "70043/70043 [==============================] - 4s 59us/step - loss: 0.1349 - acc: 0.9622 - val_loss: 0.1150 - val_acc: 0.9645\n",
      "Epoch 27/75\n",
      "70043/70043 [==============================] - 4s 59us/step - loss: 0.1316 - acc: 0.9629 - val_loss: 0.1072 - val_acc: 0.9678\n",
      "Epoch 28/75\n",
      "70043/70043 [==============================] - 4s 59us/step - loss: 0.1295 - acc: 0.9637 - val_loss: 0.1068 - val_acc: 0.9679\n",
      "Epoch 29/75\n",
      "70043/70043 [==============================] - 4s 56us/step - loss: 0.1276 - acc: 0.9639 - val_loss: 0.1066 - val_acc: 0.9685\n",
      "Epoch 30/75\n",
      "70043/70043 [==============================] - 4s 58us/step - loss: 0.1258 - acc: 0.9646 - val_loss: 0.0991 - val_acc: 0.9709\n",
      "Epoch 31/75\n",
      "70043/70043 [==============================] - 4s 56us/step - loss: 0.1252 - acc: 0.9648 - val_loss: 0.0996 - val_acc: 0.9703\n",
      "Epoch 32/75\n",
      "70043/70043 [==============================] - 4s 57us/step - loss: 0.1227 - acc: 0.9657 - val_loss: 0.0988 - val_acc: 0.9693\n",
      "Epoch 33/75\n",
      "70043/70043 [==============================] - 4s 57us/step - loss: 0.1224 - acc: 0.9654 - val_loss: 0.1122 - val_acc: 0.9678\n",
      "Epoch 34/75\n",
      "70043/70043 [==============================] - 4s 57us/step - loss: 0.1210 - acc: 0.9658 - val_loss: 0.1093 - val_acc: 0.9685\n",
      "Epoch 35/75\n",
      "70043/70043 [==============================] - 4s 57us/step - loss: 0.1211 - acc: 0.9656 - val_loss: 0.0936 - val_acc: 0.9712\n",
      "Epoch 36/75\n",
      "70043/70043 [==============================] - 4s 56us/step - loss: 0.1188 - acc: 0.9664 - val_loss: 0.0948 - val_acc: 0.9720\n",
      "Epoch 37/75\n",
      "70043/70043 [==============================] - 4s 57us/step - loss: 0.1172 - acc: 0.9665 - val_loss: 0.0975 - val_acc: 0.9700\n",
      "Epoch 38/75\n",
      "70043/70043 [==============================] - 4s 57us/step - loss: 0.1168 - acc: 0.9672 - val_loss: 0.0946 - val_acc: 0.9710\n",
      "Epoch 39/75\n",
      "70043/70043 [==============================] - 4s 58us/step - loss: 0.1157 - acc: 0.9668 - val_loss: 0.1087 - val_acc: 0.9677\n",
      "Epoch 40/75\n",
      "70043/70043 [==============================] - 4s 57us/step - loss: 0.1128 - acc: 0.9681 - val_loss: 0.0991 - val_acc: 0.9708\n",
      "Epoch 41/75\n",
      "70043/70043 [==============================] - 4s 56us/step - loss: 0.1149 - acc: 0.9676 - val_loss: 0.0881 - val_acc: 0.9742\n",
      "Epoch 42/75\n",
      "70043/70043 [==============================] - 4s 56us/step - loss: 0.1115 - acc: 0.9678 - val_loss: 0.0896 - val_acc: 0.9741\n",
      "Epoch 43/75\n",
      "70043/70043 [==============================] - 4s 57us/step - loss: 0.1127 - acc: 0.9682 - val_loss: 0.0896 - val_acc: 0.9734\n",
      "Epoch 44/75\n",
      "70043/70043 [==============================] - 4s 57us/step - loss: 0.1095 - acc: 0.9685 - val_loss: 0.0891 - val_acc: 0.9730\n",
      "Epoch 45/75\n",
      "70043/70043 [==============================] - 4s 56us/step - loss: 0.1078 - acc: 0.9697 - val_loss: 0.0841 - val_acc: 0.9744\n",
      "Epoch 46/75\n",
      "70043/70043 [==============================] - 4s 56us/step - loss: 0.1091 - acc: 0.9692 - val_loss: 0.0832 - val_acc: 0.9748\n",
      "Epoch 47/75\n",
      "70043/70043 [==============================] - 4s 56us/step - loss: 0.1074 - acc: 0.9699 - val_loss: 0.1166 - val_acc: 0.9664\n",
      "Epoch 48/75\n",
      "70043/70043 [==============================] - 4s 56us/step - loss: 0.1057 - acc: 0.9700 - val_loss: 0.1010 - val_acc: 0.9715\n",
      "Epoch 49/75\n",
      "70043/70043 [==============================] - 4s 56us/step - loss: 0.1058 - acc: 0.9703 - val_loss: 0.1009 - val_acc: 0.9717\n",
      "Epoch 50/75\n",
      "70043/70043 [==============================] - 4s 57us/step - loss: 0.1066 - acc: 0.9698 - val_loss: 0.0809 - val_acc: 0.9757\n",
      "Epoch 51/75\n",
      "70043/70043 [==============================] - 4s 57us/step - loss: 0.1034 - acc: 0.9703 - val_loss: 0.0880 - val_acc: 0.9741\n",
      "Epoch 52/75\n",
      "70043/70043 [==============================] - 4s 57us/step - loss: 0.1052 - acc: 0.9696 - val_loss: 0.1102 - val_acc: 0.9714\n",
      "Epoch 53/75\n",
      "70043/70043 [==============================] - 4s 58us/step - loss: 0.1032 - acc: 0.9706 - val_loss: 0.0923 - val_acc: 0.9729\n",
      "Epoch 54/75\n",
      "70043/70043 [==============================] - 4s 57us/step - loss: 0.1031 - acc: 0.9698 - val_loss: 0.0907 - val_acc: 0.9732\n",
      "Epoch 55/75\n",
      "70043/70043 [==============================] - 4s 57us/step - loss: 0.1030 - acc: 0.9710 - val_loss: 0.1014 - val_acc: 0.9727\n",
      "Epoch 56/75\n",
      "70043/70043 [==============================] - 4s 57us/step - loss: 0.1013 - acc: 0.9715 - val_loss: 0.1043 - val_acc: 0.9718\n",
      "Epoch 57/75\n",
      "70043/70043 [==============================] - 4s 57us/step - loss: 0.1032 - acc: 0.9706 - val_loss: 0.0900 - val_acc: 0.9731\n",
      "Epoch 58/75\n",
      "70043/70043 [==============================] - 4s 57us/step - loss: 0.1000 - acc: 0.9716 - val_loss: 0.0834 - val_acc: 0.9742\n",
      "Epoch 59/75\n",
      "70043/70043 [==============================] - 4s 57us/step - loss: 0.0993 - acc: 0.9716 - val_loss: 0.0850 - val_acc: 0.9753\n",
      "Epoch 60/75\n",
      "70043/70043 [==============================] - 4s 57us/step - loss: 0.0994 - acc: 0.9725 - val_loss: 0.1079 - val_acc: 0.9732\n",
      "Epoch 61/75\n",
      "70043/70043 [==============================] - 4s 57us/step - loss: 0.0989 - acc: 0.9713 - val_loss: 0.0822 - val_acc: 0.9746\n",
      "Epoch 62/75\n",
      "70043/70043 [==============================] - 4s 56us/step - loss: 0.0992 - acc: 0.9719 - val_loss: 0.0931 - val_acc: 0.9743\n",
      "Epoch 63/75\n",
      "70043/70043 [==============================] - 4s 57us/step - loss: 0.0964 - acc: 0.9730 - val_loss: 0.0834 - val_acc: 0.9738\n",
      "Epoch 64/75\n",
      "70043/70043 [==============================] - 4s 57us/step - loss: 0.0982 - acc: 0.9711 - val_loss: 0.0797 - val_acc: 0.9764\n",
      "Epoch 65/75\n",
      "70043/70043 [==============================] - 4s 57us/step - loss: 0.0975 - acc: 0.9716 - val_loss: 0.1063 - val_acc: 0.9713\n",
      "Epoch 66/75\n",
      "70043/70043 [==============================] - 4s 55us/step - loss: 0.0969 - acc: 0.9722 - val_loss: 0.0847 - val_acc: 0.9762\n",
      "Epoch 67/75\n",
      "70043/70043 [==============================] - 4s 57us/step - loss: 0.0942 - acc: 0.9729 - val_loss: 0.0790 - val_acc: 0.9757\n",
      "Epoch 68/75\n",
      "70043/70043 [==============================] - 4s 56us/step - loss: 0.0956 - acc: 0.9725 - val_loss: 0.0955 - val_acc: 0.9752\n",
      "Epoch 69/75\n",
      "70043/70043 [==============================] - 4s 57us/step - loss: 0.0953 - acc: 0.9723 - val_loss: 0.0794 - val_acc: 0.9756\n",
      "Epoch 70/75\n",
      "70043/70043 [==============================] - 4s 57us/step - loss: 0.0972 - acc: 0.9717 - val_loss: 0.0735 - val_acc: 0.9784\n",
      "Epoch 71/75\n",
      "70043/70043 [==============================] - 4s 56us/step - loss: 0.0945 - acc: 0.9728 - val_loss: 0.0926 - val_acc: 0.9734\n",
      "Epoch 72/75\n",
      "70043/70043 [==============================] - 4s 56us/step - loss: 0.0939 - acc: 0.9728 - val_loss: 0.0831 - val_acc: 0.9750\n",
      "Epoch 73/75\n",
      "70043/70043 [==============================] - 4s 56us/step - loss: 0.0939 - acc: 0.9739 - val_loss: 0.0807 - val_acc: 0.9741\n",
      "Epoch 74/75\n",
      "70043/70043 [==============================] - 4s 56us/step - loss: 0.0933 - acc: 0.9733 - val_loss: 0.0778 - val_acc: 0.9758\n",
      "Epoch 75/75\n",
      "70043/70043 [==============================] - 4s 56us/step - loss: 0.0914 - acc: 0.9733 - val_loss: 0.0855 - val_acc: 0.9732\n"
     ]
    }
   ],
   "source": [
    "history = model.fit(X_train, y_train,\n",
    "                    epochs=75, \n",
    "                    batch_size=batch_size, \n",
    "                    verbose=1, \n",
    "                    validation_data=(X_test, y_test))"
   ]
  },
  {
   "cell_type": "markdown",
   "metadata": {},
   "source": [
    "#17. Accede a la accuracy histórica del modelo (con el atributo history)"
   ]
  },
  {
   "cell_type": "code",
   "execution_count": 289,
   "metadata": {},
   "outputs": [
    {
     "data": {
      "text/plain": [
       "{'val_loss': [0.5794491728262602,\n",
       "  0.5032539704979321,\n",
       "  0.4597109428588153,\n",
       "  0.37362552791141196,\n",
       "  0.3309324272276911,\n",
       "  0.33260618412925586,\n",
       "  0.3018142861071009,\n",
       "  0.2419184845579759,\n",
       "  0.23615092100802879,\n",
       "  0.19773656910848159,\n",
       "  0.17646082025505297,\n",
       "  0.17991751823690247,\n",
       "  0.16437613935871484,\n",
       "  0.15487157004437505,\n",
       "  0.14254470407642839,\n",
       "  0.1396190372838856,\n",
       "  0.13377131860426456,\n",
       "  0.1330472969063774,\n",
       "  0.12406021257743634,\n",
       "  0.12305181331617264,\n",
       "  0.13361667749407555,\n",
       "  0.12091911540420798,\n",
       "  0.1155246999702978,\n",
       "  0.12674686576983663,\n",
       "  0.11689468346360436,\n",
       "  0.11496024573406143,\n",
       "  0.1072059675847335,\n",
       "  0.1067889579864567,\n",
       "  0.10658920338801453,\n",
       "  0.09911922266119981,\n",
       "  0.09964179745322972,\n",
       "  0.09881003542540653,\n",
       "  0.11220410321743687,\n",
       "  0.10927641317295148,\n",
       "  0.09356477470278916,\n",
       "  0.094777288423904,\n",
       "  0.09754192106635098,\n",
       "  0.09460256887911171,\n",
       "  0.10867693816572743,\n",
       "  0.09913253256244081,\n",
       "  0.08813163009159729,\n",
       "  0.08961988034803382,\n",
       "  0.08956332553243383,\n",
       "  0.08914412810813897,\n",
       "  0.08414290398023169,\n",
       "  0.08321866134833561,\n",
       "  0.11656642037645228,\n",
       "  0.10100318254253783,\n",
       "  0.10093716069793016,\n",
       "  0.08090865492459508,\n",
       "  0.0879566443636337,\n",
       "  0.11015797958388966,\n",
       "  0.09230412371032419,\n",
       "  0.09072589580409804,\n",
       "  0.10136971918414073,\n",
       "  0.10429164517402179,\n",
       "  0.09002584452056836,\n",
       "  0.08342704712539566,\n",
       "  0.08502241892564727,\n",
       "  0.10791075027371574,\n",
       "  0.08221393121379525,\n",
       "  0.09306545480005059,\n",
       "  0.08339559438761086,\n",
       "  0.07973370382996375,\n",
       "  0.10633592773425668,\n",
       "  0.0847023963472108,\n",
       "  0.07902443007461846,\n",
       "  0.09545882404604505,\n",
       "  0.07936740963240642,\n",
       "  0.07351693553567855,\n",
       "  0.09255071454880634,\n",
       "  0.08309127705293072,\n",
       "  0.0806606411338227,\n",
       "  0.07784797909654846,\n",
       "  0.08550634893850552],\n",
       " 'val_acc': [0.8304494318878499,\n",
       "  0.8366169837124173,\n",
       "  0.8454114557585597,\n",
       "  0.8837873335057831,\n",
       "  0.9110273541425775,\n",
       "  0.9078864714119165,\n",
       "  0.9354691336091082,\n",
       "  0.9383244816760375,\n",
       "  0.945177317036668,\n",
       "  0.9476329165171885,\n",
       "  0.9512306550815195,\n",
       "  0.9464907772904168,\n",
       "  0.9511735479125467,\n",
       "  0.9560847465876652,\n",
       "  0.9580834902345158,\n",
       "  0.9586545598479016,\n",
       "  0.9607104104560907,\n",
       "  0.9601964478040435,\n",
       "  0.9644223629430989,\n",
       "  0.9638512933297131,\n",
       "  0.9589972016159332,\n",
       "  0.9644223629430989,\n",
       "  0.966649534642938,\n",
       "  0.9629946889096342,\n",
       "  0.9646507907884533,\n",
       "  0.9645365768657761,\n",
       "  0.9678487806234142,\n",
       "  0.9679058875847527,\n",
       "  0.9685340641594772,\n",
       "  0.9708754495743592,\n",
       "  0.9703043801686076,\n",
       "  0.9692764547998401,\n",
       "  0.9677916738050368,\n",
       "  0.9685340641594772,\n",
       "  0.9711609843810521,\n",
       "  0.9720175889440923,\n",
       "  0.9699617383359032,\n",
       "  0.9709896634970364,\n",
       "  0.9676774598823596,\n",
       "  0.970761235651682,\n",
       "  0.9741876534749586,\n",
       "  0.97413054651362,\n",
       "  0.973445262977557,\n",
       "  0.9730455141052256,\n",
       "  0.9743589743589743,\n",
       "  0.9748158300496831,\n",
       "  0.9663639997715722,\n",
       "  0.971503626292045,\n",
       "  0.9717320541373994,\n",
       "  0.9756724344697618,\n",
       "  0.9740734395522814,\n",
       "  0.9714465193307064,\n",
       "  0.9728741933641711,\n",
       "  0.9732168351322026,\n",
       "  0.9727028724801553,\n",
       "  0.9718462680600766,\n",
       "  0.9731026212095254,\n",
       "  0.9741876534749586,\n",
       "  0.9752726857403917,\n",
       "  0.9732168351322026,\n",
       "  0.9746445091656672,\n",
       "  0.9743018673976358,\n",
       "  0.9737879047455885,\n",
       "  0.9764148249671635,\n",
       "  0.9713323054080293,\n",
       "  0.9761863971218091,\n",
       "  0.9756724344697618,\n",
       "  0.9752155787790532,\n",
       "  0.9755582205470847,\n",
       "  0.9784135686140141,\n",
       "  0.973445262977557,\n",
       "  0.9750442578950375,\n",
       "  0.97413054651362,\n",
       "  0.9758437553537777,\n",
       "  0.973159728170864],\n",
       " 'loss': [0.7199774479713874,\n",
       "  0.4573264415203234,\n",
       "  0.3432547443840751,\n",
       "  0.29867623238854024,\n",
       "  0.27095061544645754,\n",
       "  0.24966196606120167,\n",
       "  0.2313223575046898,\n",
       "  0.2189256643915977,\n",
       "  0.20663715554985126,\n",
       "  0.19907621635382863,\n",
       "  0.19161010874864276,\n",
       "  0.18503664271356635,\n",
       "  0.17909045561610068,\n",
       "  0.17507180555408894,\n",
       "  0.16478416790377498,\n",
       "  0.16394405220046268,\n",
       "  0.15835421623648632,\n",
       "  0.15431180403180939,\n",
       "  0.15222249704351834,\n",
       "  0.14889769815714268,\n",
       "  0.14625185893268094,\n",
       "  0.14380443045474858,\n",
       "  0.1401568964761317,\n",
       "  0.14000852271358585,\n",
       "  0.13498400997553386,\n",
       "  0.13485726525452407,\n",
       "  0.1316464254065233,\n",
       "  0.12947911690192107,\n",
       "  0.12764745611926825,\n",
       "  0.12580779517701332,\n",
       "  0.12522272352276706,\n",
       "  0.12270353761979658,\n",
       "  0.1223905957661815,\n",
       "  0.12101989300086037,\n",
       "  0.12110569757374517,\n",
       "  0.11878384753444532,\n",
       "  0.11720027072807522,\n",
       "  0.11680329926510352,\n",
       "  0.11570680174604979,\n",
       "  0.11283754739457913,\n",
       "  0.114874275947479,\n",
       "  0.1114940586513472,\n",
       "  0.1126551202795831,\n",
       "  0.1095345601063559,\n",
       "  0.10778355708788888,\n",
       "  0.109140498805935,\n",
       "  0.10740071893135747,\n",
       "  0.10573453457173936,\n",
       "  0.10584498460822496,\n",
       "  0.10659811652181708,\n",
       "  0.1034246174354242,\n",
       "  0.10516755612120014,\n",
       "  0.10321932946569978,\n",
       "  0.10309540881746958,\n",
       "  0.1030363617464767,\n",
       "  0.10125117308161524,\n",
       "  0.10322042226981999,\n",
       "  0.0999666697496336,\n",
       "  0.0992531483832074,\n",
       "  0.09938712608314208,\n",
       "  0.09887075865093663,\n",
       "  0.09922710239032861,\n",
       "  0.09638335556568367,\n",
       "  0.09821002359155764,\n",
       "  0.09752336000292638,\n",
       "  0.09692270738654772,\n",
       "  0.0941741451968465,\n",
       "  0.09564452784948962,\n",
       "  0.09528476918541724,\n",
       "  0.0971944326712747,\n",
       "  0.09450110608367647,\n",
       "  0.09385282613508618,\n",
       "  0.09389582174227637,\n",
       "  0.09330400335248444,\n",
       "  0.09135156713713635],\n",
       " 'acc': [0.8016646917047083,\n",
       "  0.8676955586035047,\n",
       "  0.9042873663746589,\n",
       "  0.9165369845634134,\n",
       "  0.9264594606595982,\n",
       "  0.9329983009679081,\n",
       "  0.93832360123767,\n",
       "  0.9409648358592957,\n",
       "  0.9433062547666805,\n",
       "  0.9454192425027855,\n",
       "  0.946761275388549,\n",
       "  0.9482175234778659,\n",
       "  0.9506588809620539,\n",
       "  0.9512156818005744,\n",
       "  0.9540425165942008,\n",
       "  0.9551561185027061,\n",
       "  0.9562554432245215,\n",
       "  0.9568836284664437,\n",
       "  0.95768313738807,\n",
       "  0.9584969233883126,\n",
       "  0.9591108320034846,\n",
       "  0.9601816027671946,\n",
       "  0.961066773321461,\n",
       "  0.9617235125699941,\n",
       "  0.9625087447840277,\n",
       "  0.9621946518941593,\n",
       "  0.9628513911750294,\n",
       "  0.9637365616969589,\n",
       "  0.9638650541944248,\n",
       "  0.9645503475789164,\n",
       "  0.9648073325091743,\n",
       "  0.9657353338959294,\n",
       "  0.9653784104263112,\n",
       "  0.9658067188320397,\n",
       "  0.9656496723977427,\n",
       "  0.9664063502554159,\n",
       "  0.9664777351915262,\n",
       "  0.9672486900095307,\n",
       "  0.9668346585964704,\n",
       "  0.9681053066593029,\n",
       "  0.9676341677384985,\n",
       "  0.9678340449355044,\n",
       "  0.9681909682919433,\n",
       "  0.9685050610796949,\n",
       "  0.9696757706678409,\n",
       "  0.9692046315104662,\n",
       "  0.9698756479022895,\n",
       "  0.9699755863446391,\n",
       "  0.9703182331875071,\n",
       "  0.969775709094022,\n",
       "  0.9703325099325425,\n",
       "  0.9695901089866952,\n",
       "  0.9706323257599627,\n",
       "  0.969832817037464,\n",
       "  0.9710463571083491,\n",
       "  0.971488942592694,\n",
       "  0.9705609410391484,\n",
       "  0.97156032729734,\n",
       "  0.9715746042738398,\n",
       "  0.9725311593659616,\n",
       "  0.9712605112869606,\n",
       "  0.9719458047574006,\n",
       "  0.972988021745964,\n",
       "  0.971117741845332,\n",
       "  0.9716317118190267,\n",
       "  0.9722027897846691,\n",
       "  0.9729023599303647,\n",
       "  0.9725026054452989,\n",
       "  0.9723312820506705,\n",
       "  0.9717173736993,\n",
       "  0.9728024212565507,\n",
       "  0.9727881443608932,\n",
       "  0.9739017460915455,\n",
       "  0.973316391494047,\n",
       "  0.9732735605968845]}"
      ]
     },
     "execution_count": 289,
     "metadata": {},
     "output_type": "execute_result"
    }
   ],
   "source": [
    "history.history"
   ]
  },
  {
   "cell_type": "markdown",
   "metadata": {},
   "source": [
    "#18. Ahora podemos ver si nuestro modelo está haciendo overfitting. Dibuja una gráfica con la accuracy en train y en validation usando los datos del objeto history."
   ]
  },
  {
   "cell_type": "code",
   "execution_count": 290,
   "metadata": {},
   "outputs": [
    {
     "data": {
      "text/plain": [
       "[<matplotlib.lines.Line2D at 0x25b32dfd408>]"
      ]
     },
     "execution_count": 290,
     "metadata": {},
     "output_type": "execute_result"
    },
    {
     "data": {
      "image/png": "[encoded data removed]",
      "text/plain": [
       "<Figure size 432x288 with 1 Axes>"
      ]
     },
     "metadata": {
      "needs_background": "light"
     },
     "output_type": "display_data"
    }
   ],
   "source": [
    "plt.plot(history.history['acc'], label='Accuracy')\n",
    "plt.plot(history.history['val_acc'], label='Validation Accuracy')"
   ]
  },
  {
   "cell_type": "markdown",
   "metadata": {},
   "source": [
    "#19. Lo mismo, pero con la pérdida"
   ]
  },
  {
   "cell_type": "code",
   "execution_count": 291,
   "metadata": {},
   "outputs": [
    {
     "data": {
      "text/plain": [
       "<matplotlib.legend.Legend at 0x25a811845c8>"
      ]
     },
     "execution_count": 291,
     "metadata": {},
     "output_type": "execute_result"
    },
    {
     "data": {
      "image/png": "[encoded data removed]",
      "text/plain": [
       "<Figure size 432x288 with 1 Axes>"
      ]
     },
     "metadata": {
      "needs_background": "light"
     },
     "output_type": "display_data"
    }
   ],
   "source": [
    "plt.plot(history.history['loss'], label='Loss')\n",
    "plt.plot(history.history['val_loss'], label='Validation Loss' )\n",
    "plt.legend()"
   ]
  },
  {
   "cell_type": "markdown",
   "metadata": {},
   "source": [
    "#20. Vamos a ver lo que predice con el X_test"
   ]
  },
  {
   "cell_type": "code",
   "execution_count": 299,
   "metadata": {},
   "outputs": [],
   "source": [
    "y_pred = model.predict(X_test, batch_size=1000)"
   ]
  },
  {
   "cell_type": "markdown",
   "metadata": {},
   "source": [
    "#21. ¿Que dimensiones tiene la predicción y_pred?"
   ]
  },
  {
   "cell_type": "code",
   "execution_count": 300,
   "metadata": {},
   "outputs": [
    {
     "data": {
      "text/plain": [
       "(17511, 5)"
      ]
     },
     "execution_count": 300,
     "metadata": {},
     "output_type": "execute_result"
    }
   ],
   "source": [
    "#Solo una linea de código\n",
    "y_pred.shape"
   ]
  },
  {
   "cell_type": "markdown",
   "metadata": {},
   "source": [
    "#22. Compara una predicción con el valor esperado utilizando un gráfico de barras."
   ]
  },
  {
   "cell_type": "code",
   "execution_count": 306,
   "metadata": {},
   "outputs": [
    {
     "name": "stdout",
     "output_type": "stream",
     "text": [
      "[0. 0. 0. 0. 1.]\n"
     ]
    },
    {
     "data": {
      "text/plain": [
       "<BarContainer object of 5 artists>"
      ]
     },
     "execution_count": 306,
     "metadata": {},
     "output_type": "execute_result"
    },
    {
     "data": {
      "image/png": "[encoded data removed]",
      "text/plain": [
       "<Figure size 432x288 with 1 Axes>"
      ]
     },
     "metadata": {
      "needs_background": "light"
     },
     "output_type": "display_data"
    }
   ],
   "source": [
    "print(y_test[299])\n",
    "plt.bar(range(n_classes), height=y_pred[4])"
   ]
  },
  {
   "cell_type": "markdown",
   "metadata": {},
   "source": [
    "¿El modelo plantea una sola posibilidad o probabilidades al estimar la categoría?"
   ]
  },
  {
   "cell_type": "markdown",
   "metadata": {},
   "source": [
    "Este snippet de código genera un report del modelo, y el siguiente una matriz de confusión. Utilizadlo para evaluar vuestro modelo."
   ]
  },
  {
   "cell_type": "code",
   "execution_count": 34,
   "metadata": {},
   "outputs": [
    {
     "name": "stdout",
     "output_type": "stream",
     "text": [
      "             precision    recall  f1-score   support\n",
      "\n",
      "          0       0.97      1.00      0.98      3632\n",
      "          1       0.93      0.55      0.69       104\n",
      "          2       0.97      0.79      0.87       289\n",
      "          3       0.76      0.61      0.68        31\n",
      "          4       0.98      0.94      0.96       323\n",
      "\n",
      "avg / total       0.97      0.97      0.96      4379\n",
      "\n"
     ]
    }
   ],
   "source": [
    "print(classification_report(y_test.argmax(axis=1), y_pred.argmax(axis=1)))"
   ]
  },
  {
   "cell_type": "code",
   "execution_count": 35,
   "metadata": {},
   "outputs": [
    {
     "name": "stdout",
     "output_type": "stream",
     "text": [
      "Normalized confusion matrix\n"
     ]
    },
    {
     "data": {
      "image/png": "[encoded data removed]",
      "text/plain": [
       "<Figure size 720x720 with 2 Axes>"
      ]
     },
     "metadata": {},
     "output_type": "display_data"
    }
   ],
   "source": [
    "def plot_confusion_matrix(cm, classes,\n",
    "                          normalize=False,\n",
    "                          title='Confusion matrix',\n",
    "                          cmap=plt.cm.Blues):\n",
    "    \"\"\"\n",
    "    This function prints and plots the confusion matrix.\n",
    "    Normalization can be applied by setting `normalize=True`.\n",
    "    \"\"\"\n",
    "    if normalize:\n",
    "        cm = cm.astype('float') / cm.sum(axis=1)[:, np.newaxis]\n",
    "        print(\"Normalized confusion matrix\")\n",
    "    else:\n",
    "        print('Confusion matrix, without normalization')\n",
    "\n",
    "    plt.imshow(cm, interpolation='nearest', cmap=cmap)\n",
    "    plt.title(title)\n",
    "    plt.colorbar()\n",
    "    tick_marks = np.arange(len(classes))\n",
    "    plt.xticks(tick_marks, classes, rotation=45)\n",
    "    plt.yticks(tick_marks, classes)\n",
    "\n",
    "    fmt = '.2f' if normalize else 'd'\n",
    "    thresh = cm.max() / 2.\n",
    "    for i, j in itertools.product(range(cm.shape[0]), range(cm.shape[1])):\n",
    "        plt.text(j, i, format(cm[i, j], fmt),\n",
    "                 horizontalalignment=\"center\",\n",
    "                 color=\"white\" if cm[i, j] > thresh else \"black\")\n",
    "\n",
    "    plt.tight_layout()\n",
    "    plt.ylabel('True label')\n",
    "    plt.xlabel('Predicted label')\n",
    "\n",
    "# Compute confusion matrix\n",
    "cnf_matrix = confusion_matrix(y_test.argmax(axis=1), y_pred.argmax(axis=1))\n",
    "np.set_printoptions(precision=2)\n",
    "\n",
    "# Plot non-normalized confusion matrix\n",
    "plt.figure(figsize=(10, 10))\n",
    "plot_confusion_matrix(cnf_matrix, classes=['N', 'S', 'V', 'F', 'Q'],\n",
    "                      title='Confusion matrix, with normalization',\n",
    "                      normalize=True)\n",
    "plt.show()"
   ]
  },
  {
   "cell_type": "markdown",
   "metadata": {},
   "source": [
    "**Preguntas:**\n",
    "- Si tomamos todo lo que no sea normal como positivo, ¿el modelo se equivoca mas en falsos positivos o en falsos negativos?\n",
    "- ¿Que categoría genera mayor error?\n",
    "- ¿Existe overfitting?\n",
    "- ¿Como afecta batch_size al entrenamiento?"
   ]
  },
  {
   "cell_type": "markdown",
   "metadata": {},
   "source": [
    "Ahora os toca a vosotros mejorar el modelo. Probad con otros optimizadores, cambiar la función de coste, volveros locos con el batch_size..... El paper del principio puede dar alguna pista. Como siempre, el que tenga la mejor score, ¡tiene premio!"
   ]
  }
 ],
 "metadata": {
  "kernelspec": {
   "display_name": "Python 3",
   "language": "python",
   "name": "python3"
  },
  "language_info": {
   "codemirror_mode": {
    "name": "ipython",
    "version": 3
   },
   "file_extension": ".py",
   "mimetype": "text/x-python",
   "name": "python",
   "nbconvert_exporter": "python",
   "pygments_lexer": "ipython3",
   "version": "3.7.6"
  }
 },
 "nbformat": 4,
 "nbformat_minor": 4
}
