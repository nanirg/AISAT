{
  "nbformat": 4,
  "nbformat_minor": 0,
  "metadata": {
    "colab": {
      "name": "Copy of Head pose.ipynb",
      "provenance": [],
      "collapsed_sections": []
    },
    "kernelspec": {
      "name": "python3",
      "display_name": "Python 3"
    },
    "accelerator": "GPU"
  },
  "cells": [
    {
      "cell_type": "markdown",
      "metadata": {
        "id": "5cE0ywc97Hnk",
        "colab_type": "text"
      },
      "source": [
        "# Head Position Detector (AI6 Session 3)"
      ]
    },
    {
      "cell_type": "markdown",
      "metadata": {
        "id": "0eporID4CqnR",
        "colab_type": "text"
      },
      "source": [
        "The objective is to detect where a person is looking from an image of their face.\n",
        "\n",
        "The dataset to be used for training the network is the [Head Pose Image Dataset](http://www-prima.inrialpes.fr/perso/Gourier/Faces/HPDatabase.html)"
      ]
    },
    {
      "cell_type": "code",
      "metadata": {
        "id": "GQP_LaSs7FMT",
        "colab_type": "code",
        "outputId": "3ca7dd48-61cf-41c8-a607-d23c026c4033",
        "colab": {
          "base_uri": "https://localhost:8080/",
          "height": 85
        }
      },
      "source": [
        "# Dependencies and imports\n",
        "\n",
        "import cv2  # OpenCV 2 for capturing frames from the video\n",
        "import os  # For managing paths and directories in the project\n",
        "import shutil  # High level file operations\n",
        "import numpy as np  # Arrays\n",
        "import keras  # High level NN API\n",
        "from PIL import Image, ImageOps # For image processing\n",
        "from pathlib import Path  # For easily managing paths\n",
        "from IPython import display  # For displaying images inline with the notebook\n",
        "from sklearn.model_selection import train_test_split  # For train-test splitting\n",
        "from tqdm import tqdm\n",
        "import re\n",
        "import requests\n",
        "import pandas as pd\n",
        "import glob"
      ],
      "execution_count": 1,
      "outputs": [
        {
          "output_type": "stream",
          "text": [
            "Using TensorFlow backend.\n"
          ],
          "name": "stderr"
        },
        {
          "output_type": "display_data",
          "data": {
            "text/html": [
              "<p style=\"color: red;\">\n",
              "The default version of TensorFlow in Colab will soon switch to TensorFlow 2.x.<br>\n",
              "We recommend you <a href=\"https://www.tensorflow.org/guide/migrate\" target=\"_blank\">upgrade</a> now \n",
              "or ensure your notebook will continue to use TensorFlow 1.x via the <code>%tensorflow_version 1.x</code> magic:\n",
              "<a href=\"https://colab.research.google.com/notebooks/tensorflow_version.ipynb\" target=\"_blank\">more info</a>.</p>\n"
            ],
            "text/plain": [
              "<IPython.core.display.HTML object>"
            ]
          },
          "metadata": {
            "tags": []
          }
        }
      ]
    },
    {
      "cell_type": "code",
      "metadata": {
        "id": "2KWiUeNo9N-H",
        "colab_type": "code",
        "outputId": "1f7378bd-ced6-453d-aaa1-e9acef4b712c",
        "colab": {
          "base_uri": "https://localhost:8080/",
          "height": 36
        }
      },
      "source": [
        "# Download the dataset\n",
        "import requests\n",
        "url = 'http://www-prima.inrialpes.fr/perso/Gourier/Faces/HeadPoseImageDatabase.tar.gz'\n",
        "name = 'HeadPoseImageDatabase.tar.gz'\n",
        "r = requests.get(url, allow_redirects=True)\n",
        "open(name, 'wb').write(r.content)"
      ],
      "execution_count": 2,
      "outputs": [
        {
          "output_type": "execute_result",
          "data": {
            "text/plain": [
              "28512828"
            ]
          },
          "metadata": {
            "tags": []
          },
          "execution_count": 2
        }
      ]
    },
    {
      "cell_type": "code",
      "metadata": {
        "id": "RlAXXF5j9kN6",
        "colab_type": "code",
        "colab": {}
      },
      "source": [
        "# Untar and unzip the dataset\n",
        "!tar xfz HeadPoseImageDatabase.tar.gz"
      ],
      "execution_count": 0,
      "outputs": []
    },
    {
      "cell_type": "code",
      "metadata": {
        "id": "c9aWalCzZUv4",
        "colab_type": "code",
        "colab": {}
      },
      "source": [
        "def img_df(image_path, shape):\n",
        "    image = Image.open(image_path)\n",
        "    image_resized = image.resize(shape, Image.ANTIALIAS)\n",
        "    img_array = np.asarray(image_resized)\n",
        "    return img_array"
      ],
      "execution_count": 0,
      "outputs": []
    },
    {
      "cell_type": "code",
      "metadata": {
        "id": "OuNwuftx-opn",
        "colab_type": "code",
        "colab": {}
      },
      "source": [
        "# Formar X e Y recorriendo las carpetas y ficheros\n",
        "df = pd.DataFrame()\n",
        "regex = r'(\\W\\d+)(\\W\\d+)'\n",
        "jpg_list = []\n",
        "\n",
        "for txt_path in glob.glob(\"Person*/*txt\"):\n",
        "    jpg_path = txt_path[:-3] + \"jpg\"\n",
        "    jpg_list.append(jpg_path)\n",
        "    df = df.append(pd.read_csv(txt_path, header=None).T)\n",
        "\n",
        "df = df.drop(1, axis=1)\n",
        "df[\"T\"] = df[0].apply(lambda cell: int(re.findall(regex, cell)[0][0]))\n",
        "df[\"P\"] = df[0].apply(lambda cell: int(re.findall(regex, cell)[0][1]))\n",
        "df[\"Image_path\"] = jpg_list\n",
        "df[\"Image\"] = df['Image_path'].apply(lambda img: img_df(img, (224, 224)))\n",
        "df = df.drop([0, \"Image_path\"], axis=1)\n",
        "df.columns = [\"X\", \"Y\", \"H\", \"W\", \"T\", \"P\", \"Image\"]\n",
        "df.X = df.X.astype(int)\n",
        "df.Y = df.Y.astype(int)\n",
        "df.H = df.H.astype(int)\n",
        "df.W = df.W.astype(int)\n",
        "df = df.reset_index().drop(\"index\", axis=1)"
      ],
      "execution_count": 0,
      "outputs": []
    },
    {
      "cell_type": "code",
      "metadata": {
        "id": "gM4jQUcXA52w",
        "colab_type": "code",
        "colab": {}
      },
      "source": [
        "# Extraer X e Y del df y normalizar\n",
        "X = np.asarray(list(df[\"Image\"]/255.))\n",
        "Y = np.array(df[[\"X\", \"Y\", \"H\", \"W\", \"T\", \"P\"]])/100."
      ],
      "execution_count": 0,
      "outputs": []
    },
    {
      "cell_type": "code",
      "metadata": {
        "id": "__vD9HKZgN0C",
        "colab_type": "code",
        "outputId": "bcc2feb4-a2f7-45d7-8dd5-0992b0f24def",
        "colab": {
          "base_uri": "https://localhost:8080/",
          "height": 36
        }
      },
      "source": [
        "# Normalizar X e Y\n",
        "X.shape"
      ],
      "execution_count": 7,
      "outputs": [
        {
          "output_type": "execute_result",
          "data": {
            "text/plain": [
              "(2790, 224, 224, 3)"
            ]
          },
          "metadata": {
            "tags": []
          },
          "execution_count": 7
        }
      ]
    },
    {
      "cell_type": "code",
      "metadata": {
        "id": "YsF3IUiqA98c",
        "colab_type": "code",
        "outputId": "7d5ec0bf-5061-4b37-a706-156706684372",
        "colab": {
          "base_uri": "https://localhost:8080/",
          "height": 541
        }
      },
      "source": [
        "# Crear red neuronal\n",
        "from keras.layers import Dense,GlobalAveragePooling2D\n",
        "from keras.applications import MobileNet\n",
        "from keras.preprocessing import image\n",
        "from keras.models import Model\n",
        "\n",
        "\n",
        "n_classes = 6\n",
        "base_model = MobileNet(weights='imagenet',include_top=False) #imports the mobilenet model and discards the last 1000 neuron layer.\n",
        "\n",
        "x = base_model.output\n",
        "x = GlobalAveragePooling2D()(x)\n",
        "x = Dense(1024,activation='relu')(x) #we add dense layers so that the model can learn more complex functions and classify for better results.\n",
        "x = Dense(1024,activation='relu')(x) #dense layer 2\n",
        "x = Dense(512,activation='relu')(x) #dense layer 3\n",
        "\n",
        "preds = Dense(n_classes,activation='linear')(x)\n",
        "\n",
        "model=Model(inputs=base_model.input,outputs=preds)\n",
        "\n"
      ],
      "execution_count": 8,
      "outputs": [
        {
          "output_type": "stream",
          "text": [
            "WARNING:tensorflow:From /usr/local/lib/python3.6/dist-packages/keras/backend/tensorflow_backend.py:66: The name tf.get_default_graph is deprecated. Please use tf.compat.v1.get_default_graph instead.\n",
            "\n",
            "WARNING:tensorflow:From /usr/local/lib/python3.6/dist-packages/keras/backend/tensorflow_backend.py:541: The name tf.placeholder is deprecated. Please use tf.compat.v1.placeholder instead.\n",
            "\n",
            "WARNING:tensorflow:From /usr/local/lib/python3.6/dist-packages/keras/backend/tensorflow_backend.py:4432: The name tf.random_uniform is deprecated. Please use tf.random.uniform instead.\n",
            "\n",
            "WARNING:tensorflow:From /usr/local/lib/python3.6/dist-packages/keras/backend/tensorflow_backend.py:190: The name tf.get_default_session is deprecated. Please use tf.compat.v1.get_default_session instead.\n",
            "\n",
            "WARNING:tensorflow:From /usr/local/lib/python3.6/dist-packages/keras/backend/tensorflow_backend.py:197: The name tf.ConfigProto is deprecated. Please use tf.compat.v1.ConfigProto instead.\n",
            "\n",
            "WARNING:tensorflow:From /usr/local/lib/python3.6/dist-packages/keras/backend/tensorflow_backend.py:203: The name tf.Session is deprecated. Please use tf.compat.v1.Session instead.\n",
            "\n"
          ],
          "name": "stdout"
        },
        {
          "output_type": "stream",
          "text": [
            "/usr/local/lib/python3.6/dist-packages/keras_applications/mobilenet.py:207: UserWarning: `input_shape` is undefined or non-square, or `rows` is not in [128, 160, 192, 224]. Weights for input shape (224, 224) will be loaded as the default.\n",
            "  warnings.warn('`input_shape` is undefined or non-square, '\n"
          ],
          "name": "stderr"
        },
        {
          "output_type": "stream",
          "text": [
            "WARNING:tensorflow:From /usr/local/lib/python3.6/dist-packages/keras/backend/tensorflow_backend.py:207: The name tf.global_variables is deprecated. Please use tf.compat.v1.global_variables instead.\n",
            "\n",
            "WARNING:tensorflow:From /usr/local/lib/python3.6/dist-packages/keras/backend/tensorflow_backend.py:216: The name tf.is_variable_initialized is deprecated. Please use tf.compat.v1.is_variable_initialized instead.\n",
            "\n",
            "WARNING:tensorflow:From /usr/local/lib/python3.6/dist-packages/keras/backend/tensorflow_backend.py:223: The name tf.variables_initializer is deprecated. Please use tf.compat.v1.variables_initializer instead.\n",
            "\n",
            "WARNING:tensorflow:From /usr/local/lib/python3.6/dist-packages/keras/backend/tensorflow_backend.py:2041: The name tf.nn.fused_batch_norm is deprecated. Please use tf.compat.v1.nn.fused_batch_norm instead.\n",
            "\n",
            "WARNING:tensorflow:From /usr/local/lib/python3.6/dist-packages/keras/backend/tensorflow_backend.py:148: The name tf.placeholder_with_default is deprecated. Please use tf.compat.v1.placeholder_with_default instead.\n",
            "\n",
            "Downloading data from https://github.com/fchollet/deep-learning-models/releases/download/v0.6/mobilenet_1_0_224_tf_no_top.h5\n",
            "17227776/17225924 [==============================] - 1s 0us/step\n"
          ],
          "name": "stdout"
        }
      ]
    },
    {
      "cell_type": "code",
      "metadata": {
        "id": "wIFumSDiBBlq",
        "colab_type": "code",
        "colab": {}
      },
      "source": [
        "# Entrenar red neuronal\n",
        "from sklearn.model_selection import train_test_split\n",
        "X_train, X_test, Y_train, Y_test = train_test_split(X, Y, test_size=0.33)"
      ],
      "execution_count": 0,
      "outputs": []
    },
    {
      "cell_type": "code",
      "metadata": {
        "id": "ZZZwmeQaza2D",
        "colab_type": "code",
        "colab": {}
      },
      "source": [
        "for layer in model.layers[:20]:\n",
        "    layer.trainable=False\n",
        "for layer in model.layers[20:]:\n",
        "    layer.trainable=True"
      ],
      "execution_count": 0,
      "outputs": []
    },
    {
      "cell_type": "code",
      "metadata": {
        "id": "X8bJg58wha6l",
        "colab_type": "code",
        "outputId": "bec97416-b009-49d5-eb91-eec43b0732a8",
        "colab": {
          "base_uri": "https://localhost:8080/",
          "height": 76
        }
      },
      "source": [
        "model.compile(optimizer = 'Adam',\n",
        "              loss ='mean_squared_error',\n",
        "              metrics = ['cosine_proximity'])"
      ],
      "execution_count": 11,
      "outputs": [
        {
          "output_type": "stream",
          "text": [
            "WARNING:tensorflow:From /usr/local/lib/python3.6/dist-packages/keras/optimizers.py:793: The name tf.train.Optimizer is deprecated. Please use tf.compat.v1.train.Optimizer instead.\n",
            "\n"
          ],
          "name": "stdout"
        }
      ]
    },
    {
      "cell_type": "code",
      "metadata": {
        "id": "qT4d0wSYhAQy",
        "colab_type": "code",
        "outputId": "6e64dce8-ec1a-41e7-b5f4-deaf049f54c2",
        "colab": {
          "base_uri": "https://localhost:8080/",
          "height": 541
        }
      },
      "source": [
        "\n",
        "model.fit(X_train, Y_train, validation_data=[X_test, Y_test], epochs=10, verbose=1)"
      ],
      "execution_count": 12,
      "outputs": [
        {
          "output_type": "stream",
          "text": [
            "WARNING:tensorflow:From /usr/local/lib/python3.6/dist-packages/keras/backend/tensorflow_backend.py:1033: The name tf.assign_add is deprecated. Please use tf.compat.v1.assign_add instead.\n",
            "\n",
            "WARNING:tensorflow:From /usr/local/lib/python3.6/dist-packages/keras/backend/tensorflow_backend.py:1020: The name tf.assign is deprecated. Please use tf.compat.v1.assign instead.\n",
            "\n",
            "Train on 1869 samples, validate on 921 samples\n",
            "Epoch 1/10\n",
            "1869/1869 [==============================] - 17s 9ms/step - loss: 0.4071 - cosine_proximity: -0.9570 - val_loss: 1.3126 - val_cosine_proximity: -0.9791\n",
            "Epoch 2/10\n",
            "1869/1869 [==============================] - 6s 3ms/step - loss: 0.0184 - cosine_proximity: -0.9949 - val_loss: 0.2315 - val_cosine_proximity: -0.9849\n",
            "Epoch 3/10\n",
            "1869/1869 [==============================] - 6s 3ms/step - loss: 0.0124 - cosine_proximity: -0.9963 - val_loss: 0.1400 - val_cosine_proximity: -0.9871\n",
            "Epoch 4/10\n",
            "1869/1869 [==============================] - 6s 3ms/step - loss: 0.0116 - cosine_proximity: -0.9963 - val_loss: 0.0974 - val_cosine_proximity: -0.9863\n",
            "Epoch 5/10\n",
            "1869/1869 [==============================] - 6s 3ms/step - loss: 0.0113 - cosine_proximity: -0.9970 - val_loss: 0.0501 - val_cosine_proximity: -0.9908\n",
            "Epoch 6/10\n",
            "1869/1869 [==============================] - 6s 3ms/step - loss: 0.0067 - cosine_proximity: -0.9980 - val_loss: 0.0540 - val_cosine_proximity: -0.9903\n",
            "Epoch 7/10\n",
            "1869/1869 [==============================] - 6s 3ms/step - loss: 0.0057 - cosine_proximity: -0.9982 - val_loss: 0.0597 - val_cosine_proximity: -0.9905\n",
            "Epoch 8/10\n",
            "1869/1869 [==============================] - 6s 3ms/step - loss: 0.0047 - cosine_proximity: -0.9985 - val_loss: 0.0392 - val_cosine_proximity: -0.9931\n",
            "Epoch 9/10\n",
            "1869/1869 [==============================] - 6s 3ms/step - loss: 0.0043 - cosine_proximity: -0.9986 - val_loss: 0.0513 - val_cosine_proximity: -0.9880\n",
            "Epoch 10/10\n",
            "1869/1869 [==============================] - 6s 3ms/step - loss: 0.0061 - cosine_proximity: -0.9984 - val_loss: 0.0632 - val_cosine_proximity: -0.9901\n"
          ],
          "name": "stdout"
        },
        {
          "output_type": "execute_result",
          "data": {
            "text/plain": [
              "<keras.callbacks.History at 0x7fae504ea390>"
            ]
          },
          "metadata": {
            "tags": []
          },
          "execution_count": 12
        }
      ]
    },
    {
      "cell_type": "code",
      "metadata": {
        "id": "oB51umh3BDhy",
        "colab_type": "code",
        "colab": {
          "base_uri": "https://localhost:8080/",
          "height": 133
        },
        "outputId": "6003102f-abf5-4ed8-95c1-22c56fc1e98a"
      },
      "source": [
        "from sklearn.metrics import r2_score\n",
        "\n",
        "y_pred = model.predict(X_test)\n",
        "for a in range(0,6):\n",
        "  print(r2_score(Y_test[:,a], y_pred[:,a]))\n",
        "\n"
      ],
      "execution_count": 18,
      "outputs": [
        {
          "output_type": "stream",
          "text": [
            "0.7414875560542109\n",
            "0.5520262966071228\n",
            "-2.314769619165437\n",
            "-2.7074629659794507\n",
            "0.8711233010900373\n",
            "0.8405459284545028\n"
          ],
          "name": "stdout"
        }
      ]
    },
    {
      "cell_type": "code",
      "metadata": {
        "id": "CRJZW8E5BKol",
        "colab_type": "code",
        "colab": {
          "base_uri": "https://localhost:8080/",
          "height": 36
        },
        "outputId": "1b939916-dca6-4aa3-9ebf-892f911517c4"
      },
      "source": [
        "# Como para la aplicación que se pensaba no interesan Height y Width observamos solo las otras cuatro\n",
        "\n",
        "r2_score(Y_test[:,[0,1,4,5]], y_pred[:,[0,1,4,5]])\n"
      ],
      "execution_count": 19,
      "outputs": [
        {
          "output_type": "execute_result",
          "data": {
            "text/plain": [
              "0.7512957705514685"
            ]
          },
          "metadata": {
            "tags": []
          },
          "execution_count": 19
        }
      ]
    },
    {
      "cell_type": "code",
      "metadata": {
        "id": "aoXpK1wzBLYl",
        "colab_type": "code",
        "colab": {}
      },
      "source": [
        ""
      ],
      "execution_count": 0,
      "outputs": []
    },
    {
      "cell_type": "code",
      "metadata": {
        "id": "hs2vZdA0BMNd",
        "colab_type": "code",
        "colab": {}
      },
      "source": [
        "\n"
      ],
      "execution_count": 0,
      "outputs": []
    }
  ]
}